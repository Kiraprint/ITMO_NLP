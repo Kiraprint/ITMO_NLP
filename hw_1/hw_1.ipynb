{
 "cells": [
  {
   "cell_type": "code",
   "execution_count": 1,
   "metadata": {},
   "outputs": [
    {
     "data": {
      "text/html": [
       "<div>\n",
       "<style scoped>\n",
       "    .dataframe tbody tr th:only-of-type {\n",
       "        vertical-align: middle;\n",
       "    }\n",
       "\n",
       "    .dataframe tbody tr th {\n",
       "        vertical-align: top;\n",
       "    }\n",
       "\n",
       "    .dataframe thead th {\n",
       "        text-align: right;\n",
       "    }\n",
       "</style>\n",
       "<table border=\"1\" class=\"dataframe\">\n",
       "  <thead>\n",
       "    <tr style=\"text-align: right;\">\n",
       "      <th></th>\n",
       "      <th>email</th>\n",
       "      <th>label</th>\n",
       "    </tr>\n",
       "  </thead>\n",
       "  <tbody>\n",
       "    <tr>\n",
       "      <th>0</th>\n",
       "      <td>date wed NUMBER aug NUMBER NUMBER NUMBER NUMB...</td>\n",
       "      <td>0</td>\n",
       "    </tr>\n",
       "    <tr>\n",
       "      <th>1</th>\n",
       "      <td>martin a posted tassos papadopoulos the greek ...</td>\n",
       "      <td>0</td>\n",
       "    </tr>\n",
       "    <tr>\n",
       "      <th>2</th>\n",
       "      <td>man threatens explosion in moscow thursday aug...</td>\n",
       "      <td>0</td>\n",
       "    </tr>\n",
       "    <tr>\n",
       "      <th>3</th>\n",
       "      <td>klez the virus that won t die already the most...</td>\n",
       "      <td>0</td>\n",
       "    </tr>\n",
       "    <tr>\n",
       "      <th>4</th>\n",
       "      <td>in adding cream to spaghetti carbonara which ...</td>\n",
       "      <td>0</td>\n",
       "    </tr>\n",
       "  </tbody>\n",
       "</table>\n",
       "</div>"
      ],
      "text/plain": [
       "                                               email  label\n",
       "0   date wed NUMBER aug NUMBER NUMBER NUMBER NUMB...      0\n",
       "1  martin a posted tassos papadopoulos the greek ...      0\n",
       "2  man threatens explosion in moscow thursday aug...      0\n",
       "3  klez the virus that won t die already the most...      0\n",
       "4   in adding cream to spaghetti carbonara which ...      0"
      ]
     },
     "execution_count": 1,
     "metadata": {},
     "output_type": "execute_result"
    }
   ],
   "source": [
    "import pandas as pd\n",
    "\n",
    "data = pd.read_csv('spam_or_not_spam.csv')\n",
    "data.head(5)"
   ]
  },
  {
   "cell_type": "markdown",
   "metadata": {},
   "source": [
    "As we see data already lowercased, but not normalized (how to \"threatens -> threaten\"?) and has stop words like \"a\", \"the\", etc."
   ]
  },
  {
   "cell_type": "code",
   "execution_count": 2,
   "metadata": {},
   "outputs": [],
   "source": [
    "data = data.dropna() # we have only 1 nan row"
   ]
  },
  {
   "cell_type": "code",
   "execution_count": 3,
   "metadata": {},
   "outputs": [],
   "source": [
    "from sklearn.model_selection import cross_val_score, GridSearchCV, RepeatedKFold\n",
    "from sklearn.feature_extraction.text import CountVectorizer, TfidfVectorizer\n",
    "from sklearn.tree import DecisionTreeClassifier\n",
    "from sklearn.linear_model import LogisticRegression\n",
    "from sklearn.naive_bayes import MultinomialNB\n",
    "import sklearn\n",
    "import numpy as np\n",
    "\n",
    "sklearn.random.seed(42)\n",
    "np.random.seed(42)\n",
    "\n",
    "vectorizer1 = CountVectorizer(stop_words='english')\n",
    "vectorizer2 = TfidfVectorizer(stop_words='english')\n",
    "\n",
    "model1 = DecisionTreeClassifier(class_weight='balanced')\n",
    "model2 = LogisticRegression(max_iter=1000, class_weight='balanced')\n",
    "model3 = MultinomialNB()\n",
    "\n",
    "vectorizers = [vectorizer1, vectorizer2]\n",
    "models = [model1, model2, model3]\n",
    "\n",
    "\n",
    "model_grids = {'DecisionTreeClassifier': {'ccp_alpha': [0, 0.5, 1]},\n",
    "               'LogisticRegression': {'C': [1, 1.5, 2]},\n",
    "               'MultinomialNB': {'alpha': [1, 1.5, 2]}}\n",
    "\n"
   ]
  },
  {
   "cell_type": "code",
   "execution_count": 4,
   "metadata": {},
   "outputs": [],
   "source": [
    "def TestModelAndVectorizer(vectorizer, model):\n",
    "    X = vectorizer.fit_transform(list(data['email'])).toarray() \n",
    "    y = np.array(data['label'].to_list())\n",
    "    grid = model_grids[model.__class__.__name__]\n",
    "    \n",
    "    cvFold = RepeatedKFold(n_splits=3, n_repeats=3, random_state=1)\n",
    "    gridSearch = GridSearchCV(estimator=model, param_grid=grid, n_jobs=3,\n",
    "\tcv=cvFold, scoring=\"f1\")\n",
    "    # use f1-score because of having unbalanced classes\n",
    "    searchResults = gridSearch.fit(X, y)\n",
    "    bestModel = searchResults.best_estimator_\n",
    "    scores = cross_val_score(bestModel, X, y, cv=10, n_jobs=10, scoring='f1') \n",
    "    \n",
    "    return bestModel, scores.mean(), scores.std()"
   ]
  },
  {
   "cell_type": "code",
   "execution_count": 5,
   "metadata": {},
   "outputs": [],
   "source": [
    "def print_info(vectorizer, model, mean_acc, std):\n",
    "    print(f\"{model.__class__.__name__} - {vectorizer.__class__.__name__}| accuracy: {mean_acc} | std: {std}\")"
   ]
  },
  {
   "cell_type": "code",
   "execution_count": 6,
   "metadata": {},
   "outputs": [
    {
     "name": "stdout",
     "output_type": "stream",
     "text": [
      "CountVectorizer - DecisionTreeClassifier| accuracy: 0.8113843101879391 | std: 0.0734539358983156\n",
      "TfidfVectorizer - DecisionTreeClassifier| accuracy: 0.7981017653375025 | std: 0.09197458226015737\n",
      "CountVectorizer - LogisticRegression| accuracy: 0.9577944756456105 | std: 0.05234733230790628\n",
      "TfidfVectorizer - LogisticRegression| accuracy: 0.9412557724697919 | std: 0.03414918679302613\n",
      "CountVectorizer - MultinomialNB| accuracy: 0.9467730629572838 | std: 0.030265750652902816\n",
      "TfidfVectorizer - MultinomialNB| accuracy: 0.5441161507918728 | std: 0.10771507567246275\n"
     ]
    }
   ],
   "source": [
    "bestModel = None\n",
    "bestScore = 0\n",
    "for model in models:\n",
    "    for vectorizer in vectorizers:\n",
    "        model, score, std = TestModelAndVectorizer(vectorizer, model)\n",
    "        print_info(model, vectorizer, score, std)\n",
    "        if score > bestScore:\n",
    "            bestModel = model\n",
    "            bestScore = score"
   ]
  },
  {
   "cell_type": "code",
   "execution_count": 7,
   "metadata": {},
   "outputs": [
    {
     "data": {
      "text/plain": [
       "['bestModel.pkl']"
      ]
     },
     "execution_count": 7,
     "metadata": {},
     "output_type": "execute_result"
    }
   ],
   "source": [
    "import joblib\n",
    "\n",
    "joblib.dump(bestModel, 'bestModel.pkl', compress=3)\n",
    "\n",
    "# model = joblib.load('bestModel.pkl')"
   ]
  }
 ],
 "metadata": {
  "kernelspec": {
   "display_name": ".venv",
   "language": "python",
   "name": "python3"
  },
  "language_info": {
   "codemirror_mode": {
    "name": "ipython",
    "version": 3
   },
   "file_extension": ".py",
   "mimetype": "text/x-python",
   "name": "python",
   "nbconvert_exporter": "python",
   "pygments_lexer": "ipython3",
   "version": "3.11.6"
  }
 },
 "nbformat": 4,
 "nbformat_minor": 2
}
