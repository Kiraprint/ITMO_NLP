{
 "cells": [
  {
   "cell_type": "code",
   "execution_count": 1,
   "metadata": {},
   "outputs": [],
   "source": [
    "import pandas as pd\n",
    "from sklearn.model_selection import cross_val_score, GridSearchCV, RepeatedKFold\n",
    "from sklearn.feature_extraction.text import CountVectorizer, TfidfVectorizer\n",
    "from sklearn.tree import DecisionTreeClassifier\n",
    "from sklearn.linear_model import LogisticRegression\n",
    "from sklearn.naive_bayes import MultinomialNB\n",
    "from sklearn.pipeline import Pipeline\n",
    "import sklearn\n",
    "import numpy as np\n",
    "import joblib"
   ]
  },
  {
   "cell_type": "code",
   "execution_count": 2,
   "metadata": {},
   "outputs": [
    {
     "data": {
      "text/html": [
       "<div>\n",
       "<style scoped>\n",
       "    .dataframe tbody tr th:only-of-type {\n",
       "        vertical-align: middle;\n",
       "    }\n",
       "\n",
       "    .dataframe tbody tr th {\n",
       "        vertical-align: top;\n",
       "    }\n",
       "\n",
       "    .dataframe thead th {\n",
       "        text-align: right;\n",
       "    }\n",
       "</style>\n",
       "<table border=\"1\" class=\"dataframe\">\n",
       "  <thead>\n",
       "    <tr style=\"text-align: right;\">\n",
       "      <th></th>\n",
       "      <th>email</th>\n",
       "      <th>label</th>\n",
       "    </tr>\n",
       "  </thead>\n",
       "  <tbody>\n",
       "    <tr>\n",
       "      <th>0</th>\n",
       "      <td>date wed NUMBER aug NUMBER NUMBER NUMBER NUMB...</td>\n",
       "      <td>0</td>\n",
       "    </tr>\n",
       "    <tr>\n",
       "      <th>1</th>\n",
       "      <td>martin a posted tassos papadopoulos the greek ...</td>\n",
       "      <td>0</td>\n",
       "    </tr>\n",
       "    <tr>\n",
       "      <th>2</th>\n",
       "      <td>man threatens explosion in moscow thursday aug...</td>\n",
       "      <td>0</td>\n",
       "    </tr>\n",
       "    <tr>\n",
       "      <th>3</th>\n",
       "      <td>klez the virus that won t die already the most...</td>\n",
       "      <td>0</td>\n",
       "    </tr>\n",
       "    <tr>\n",
       "      <th>4</th>\n",
       "      <td>in adding cream to spaghetti carbonara which ...</td>\n",
       "      <td>0</td>\n",
       "    </tr>\n",
       "  </tbody>\n",
       "</table>\n",
       "</div>"
      ],
      "text/plain": [
       "                                               email  label\n",
       "0   date wed NUMBER aug NUMBER NUMBER NUMBER NUMB...      0\n",
       "1  martin a posted tassos papadopoulos the greek ...      0\n",
       "2  man threatens explosion in moscow thursday aug...      0\n",
       "3  klez the virus that won t die already the most...      0\n",
       "4   in adding cream to spaghetti carbonara which ...      0"
      ]
     },
     "execution_count": 2,
     "metadata": {},
     "output_type": "execute_result"
    }
   ],
   "source": [
    "data = pd.read_csv('spam_or_not_spam.csv')\n",
    "data.head(5)"
   ]
  },
  {
   "cell_type": "markdown",
   "metadata": {},
   "source": [
    "As we see data already lowercased, but not normalized (how to \"threatens -> threaten\"?) and has stop words like \"a\", \"the\", etc."
   ]
  },
  {
   "cell_type": "code",
   "execution_count": 3,
   "metadata": {},
   "outputs": [],
   "source": [
    "data = data.dropna() # we have only 1 nan row"
   ]
  },
  {
   "cell_type": "code",
   "execution_count": 4,
   "metadata": {},
   "outputs": [],
   "source": [
    "sklearn.random.seed(42)\n",
    "np.random.seed(42)\n",
    "\n",
    "vectorizer1 = CountVectorizer(stop_words='english')\n",
    "vectorizer2 = TfidfVectorizer(stop_words='english')\n",
    "\n",
    "model1 = DecisionTreeClassifier(class_weight='balanced', random_state=42)\n",
    "model2 = LogisticRegression(max_iter=1000, class_weight='balanced', random_state=42)\n",
    "model3 = MultinomialNB()\n",
    "\n",
    "vectorizers = [vectorizer1, vectorizer2]\n",
    "models = [model1, model2, model3]\n",
    "\n",
    "\n",
    "model_grids = {'DecisionTreeClassifier': {'ccp_alpha': [0, 0.5, 1]},\n",
    "               'LogisticRegression': {'C': [1, 1.5, 2]},\n",
    "               'MultinomialNB': {'alpha': [1, 1.5, 2]}}\n"
   ]
  },
  {
   "cell_type": "code",
   "execution_count": 5,
   "metadata": {},
   "outputs": [],
   "source": [
    "def TestModelAndVectorizer(vectorizer, model):\n",
    "    X = np.array(data['email'].to_list()) \n",
    "    y = np.array(data['label'].to_list())\n",
    "    grid = model_grids[model.__class__.__name__]\n",
    "    \n",
    "    X_train, X_test, y_train, y_test = sklearn.model_selection.train_test_split(X, y, test_size=0.33, random_state=42)\n",
    "    \n",
    "    X_train = vectorizer.fit_transform(X_train)\n",
    "    X_test = vectorizer.transform(X_test)\n",
    "    \n",
    "    gridSearch = GridSearchCV(estimator=model, param_grid=grid, n_jobs=3,\n",
    "\tcv=3, scoring=\"f1\")\n",
    "    # use f1-score because of having unbalanced classes\n",
    "    searchResults = gridSearch.fit(X_train, y_train)\n",
    "    \n",
    "    \n",
    "    bestModel = searchResults.best_estimator_\n",
    "    scores = cross_val_score(bestModel, X_test, y_test, cv=10, n_jobs=10, scoring='f1') \n",
    "    \n",
    "    return bestModel, scores.mean(), scores.std()"
   ]
  },
  {
   "cell_type": "code",
   "execution_count": 6,
   "metadata": {},
   "outputs": [],
   "source": [
    "def print_info(model, vectorizer, mean_acc, std):\n",
    "    print(f\"{model.__class__.__name__} - {vectorizer.__class__.__name__}| accuracy: {mean_acc} | std: {std}\")"
   ]
  },
  {
   "cell_type": "code",
   "execution_count": 7,
   "metadata": {},
   "outputs": [
    {
     "name": "stdout",
     "output_type": "stream",
     "text": [
      "DecisionTreeClassifier - CountVectorizer| accuracy: 0.7798348390559193 | std: 0.06336291513788574\n",
      "DecisionTreeClassifier - TfidfVectorizer| accuracy: 0.7061599960868266 | std: 0.07734290364046824\n",
      "LogisticRegression - CountVectorizer| accuracy: 0.9460672392124005 | std: 0.042171396344804296\n",
      "LogisticRegression - TfidfVectorizer| accuracy: 0.9124472116685688 | std: 0.04584759688061759\n",
      "MultinomialNB - CountVectorizer| accuracy: 0.9071537819799778 | std: 0.06453416263085482\n",
      "MultinomialNB - TfidfVectorizer| accuracy: 0.18871345029239767 | std: 0.0941088310249275\n"
     ]
    }
   ],
   "source": [
    "bestModel = None\n",
    "bestScore = 0\n",
    "for model in models:\n",
    "    for vectorizer in vectorizers:\n",
    "        model, score, std = TestModelAndVectorizer(vectorizer, model)\n",
    "        print_info(model, vectorizer, score, std)\n",
    "        if score > bestScore:\n",
    "            bestModel = model\n",
    "            bestScore = score"
   ]
  },
  {
   "cell_type": "code",
   "execution_count": 8,
   "metadata": {},
   "outputs": [
    {
     "data": {
      "text/plain": [
       "['bestModel.pkl']"
      ]
     },
     "execution_count": 8,
     "metadata": {},
     "output_type": "execute_result"
    }
   ],
   "source": [
    "joblib.dump(bestModel, 'bestModel.pkl', compress=3)\n",
    "# model = joblib.load('bestModel.pkl')"
   ]
  }
 ],
 "metadata": {
  "kernelspec": {
   "display_name": ".venv",
   "language": "python",
   "name": "python3"
  },
  "language_info": {
   "codemirror_mode": {
    "name": "ipython",
    "version": 3
   },
   "file_extension": ".py",
   "mimetype": "text/x-python",
   "name": "python",
   "nbconvert_exporter": "python",
   "pygments_lexer": "ipython3",
   "version": "3.11.6"
  }
 },
 "nbformat": 4,
 "nbformat_minor": 2
}
